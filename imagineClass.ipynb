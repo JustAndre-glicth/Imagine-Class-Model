{
  "nbformat": 4,
  "nbformat_minor": 0,
  "metadata": {
    "colab": {
      "name": "imagineClass.ipynb",
      "provenance": [],
      "collapsed_sections": []
    },
    "kernelspec": {
      "name": "python3",
      "display_name": "Python 3"
    },
    "widgets": {
      "application/vnd.jupyter.widget-state+json": {
        "4e6f1d1b94314ea9a601d7a56617be12": {
          "model_module": "@jupyter-widgets/controls",
          "model_name": "HBoxModel",
          "state": {
            "_view_name": "HBoxView",
            "_dom_classes": [],
            "_model_name": "HBoxModel",
            "_view_module": "@jupyter-widgets/controls",
            "_model_module_version": "1.5.0",
            "_view_count": null,
            "_view_module_version": "1.5.0",
            "box_style": "",
            "layout": "IPY_MODEL_dc60b231c38d4b9e94bbdd2dc705d9ae",
            "_model_module": "@jupyter-widgets/controls",
            "children": [
              "IPY_MODEL_9fa1d62d0d9243628e01f98d446668cc",
              "IPY_MODEL_eed3d678f9e04cbd93d20f8158d93e34"
            ]
          }
        },
        "dc60b231c38d4b9e94bbdd2dc705d9ae": {
          "model_module": "@jupyter-widgets/base",
          "model_name": "LayoutModel",
          "state": {
            "_view_name": "LayoutView",
            "grid_template_rows": null,
            "right": null,
            "justify_content": null,
            "_view_module": "@jupyter-widgets/base",
            "overflow": null,
            "_model_module_version": "1.2.0",
            "_view_count": null,
            "flex_flow": null,
            "width": null,
            "min_width": null,
            "border": null,
            "align_items": null,
            "bottom": null,
            "_model_module": "@jupyter-widgets/base",
            "top": null,
            "grid_column": null,
            "overflow_y": null,
            "overflow_x": null,
            "grid_auto_flow": null,
            "grid_area": null,
            "grid_template_columns": null,
            "flex": null,
            "_model_name": "LayoutModel",
            "justify_items": null,
            "grid_row": null,
            "max_height": null,
            "align_content": null,
            "visibility": null,
            "align_self": null,
            "height": null,
            "min_height": null,
            "padding": null,
            "grid_auto_rows": null,
            "grid_gap": null,
            "max_width": null,
            "order": null,
            "_view_module_version": "1.2.0",
            "grid_template_areas": null,
            "object_position": null,
            "object_fit": null,
            "grid_auto_columns": null,
            "margin": null,
            "display": null,
            "left": null
          }
        },
        "9fa1d62d0d9243628e01f98d446668cc": {
          "model_module": "@jupyter-widgets/controls",
          "model_name": "FloatProgressModel",
          "state": {
            "_view_name": "ProgressView",
            "style": "IPY_MODEL_f96b9dfc77af4606ad62cbf02cd18afe",
            "_dom_classes": [],
            "description": "Dl Completed...: 100%",
            "_model_name": "FloatProgressModel",
            "bar_style": "success",
            "max": 4,
            "_view_module": "@jupyter-widgets/controls",
            "_model_module_version": "1.5.0",
            "value": 4,
            "_view_count": null,
            "_view_module_version": "1.5.0",
            "orientation": "horizontal",
            "min": 0,
            "description_tooltip": null,
            "_model_module": "@jupyter-widgets/controls",
            "layout": "IPY_MODEL_babf0bd691b94a8caf36080b1e6f0149"
          }
        },
        "eed3d678f9e04cbd93d20f8158d93e34": {
          "model_module": "@jupyter-widgets/controls",
          "model_name": "HTMLModel",
          "state": {
            "_view_name": "HTMLView",
            "style": "IPY_MODEL_368ebb94a037483695ba6af786f39ff6",
            "_dom_classes": [],
            "description": "",
            "_model_name": "HTMLModel",
            "placeholder": "​",
            "_view_module": "@jupyter-widgets/controls",
            "_model_module_version": "1.5.0",
            "value": " 4/4 [00:59&lt;00:00, 14.81s/ file]",
            "_view_count": null,
            "_view_module_version": "1.5.0",
            "description_tooltip": null,
            "_model_module": "@jupyter-widgets/controls",
            "layout": "IPY_MODEL_6d2d5ea7fa1c4737b512521ef6662bb8"
          }
        },
        "f96b9dfc77af4606ad62cbf02cd18afe": {
          "model_module": "@jupyter-widgets/controls",
          "model_name": "ProgressStyleModel",
          "state": {
            "_view_name": "StyleView",
            "_model_name": "ProgressStyleModel",
            "description_width": "initial",
            "_view_module": "@jupyter-widgets/base",
            "_model_module_version": "1.5.0",
            "_view_count": null,
            "_view_module_version": "1.2.0",
            "bar_color": null,
            "_model_module": "@jupyter-widgets/controls"
          }
        },
        "babf0bd691b94a8caf36080b1e6f0149": {
          "model_module": "@jupyter-widgets/base",
          "model_name": "LayoutModel",
          "state": {
            "_view_name": "LayoutView",
            "grid_template_rows": null,
            "right": null,
            "justify_content": null,
            "_view_module": "@jupyter-widgets/base",
            "overflow": null,
            "_model_module_version": "1.2.0",
            "_view_count": null,
            "flex_flow": null,
            "width": null,
            "min_width": null,
            "border": null,
            "align_items": null,
            "bottom": null,
            "_model_module": "@jupyter-widgets/base",
            "top": null,
            "grid_column": null,
            "overflow_y": null,
            "overflow_x": null,
            "grid_auto_flow": null,
            "grid_area": null,
            "grid_template_columns": null,
            "flex": null,
            "_model_name": "LayoutModel",
            "justify_items": null,
            "grid_row": null,
            "max_height": null,
            "align_content": null,
            "visibility": null,
            "align_self": null,
            "height": null,
            "min_height": null,
            "padding": null,
            "grid_auto_rows": null,
            "grid_gap": null,
            "max_width": null,
            "order": null,
            "_view_module_version": "1.2.0",
            "grid_template_areas": null,
            "object_position": null,
            "object_fit": null,
            "grid_auto_columns": null,
            "margin": null,
            "display": null,
            "left": null
          }
        },
        "368ebb94a037483695ba6af786f39ff6": {
          "model_module": "@jupyter-widgets/controls",
          "model_name": "DescriptionStyleModel",
          "state": {
            "_view_name": "StyleView",
            "_model_name": "DescriptionStyleModel",
            "description_width": "",
            "_view_module": "@jupyter-widgets/base",
            "_model_module_version": "1.5.0",
            "_view_count": null,
            "_view_module_version": "1.2.0",
            "_model_module": "@jupyter-widgets/controls"
          }
        },
        "6d2d5ea7fa1c4737b512521ef6662bb8": {
          "model_module": "@jupyter-widgets/base",
          "model_name": "LayoutModel",
          "state": {
            "_view_name": "LayoutView",
            "grid_template_rows": null,
            "right": null,
            "justify_content": null,
            "_view_module": "@jupyter-widgets/base",
            "overflow": null,
            "_model_module_version": "1.2.0",
            "_view_count": null,
            "flex_flow": null,
            "width": null,
            "min_width": null,
            "border": null,
            "align_items": null,
            "bottom": null,
            "_model_module": "@jupyter-widgets/base",
            "top": null,
            "grid_column": null,
            "overflow_y": null,
            "overflow_x": null,
            "grid_auto_flow": null,
            "grid_area": null,
            "grid_template_columns": null,
            "flex": null,
            "_model_name": "LayoutModel",
            "justify_items": null,
            "grid_row": null,
            "max_height": null,
            "align_content": null,
            "visibility": null,
            "align_self": null,
            "height": null,
            "min_height": null,
            "padding": null,
            "grid_auto_rows": null,
            "grid_gap": null,
            "max_width": null,
            "order": null,
            "_view_module_version": "1.2.0",
            "grid_template_areas": null,
            "object_position": null,
            "object_fit": null,
            "grid_auto_columns": null,
            "margin": null,
            "display": null,
            "left": null
          }
        }
      }
    }
  },
  "cells": [
    {
      "cell_type": "code",
      "metadata": {
        "colab": {
          "base_uri": "https://localhost:8080/"
        },
        "id": "FD0bu3rqhXfW",
        "outputId": "dda5b920-8fac-419c-d9af-fff2c767468b"
      },
      "source": [
        "from google.colab import drive\r\n",
        "drive.mount('/content/drive')"
      ],
      "execution_count": 18,
      "outputs": [
        {
          "output_type": "stream",
          "text": [
            "Drive already mounted at /content/drive; to attempt to forcibly remount, call drive.mount(\"/content/drive\", force_remount=True).\n"
          ],
          "name": "stdout"
        }
      ]
    },
    {
      "cell_type": "code",
      "metadata": {
        "id": "kFjalQYMhRRU"
      },
      "source": [
        "import numpy as np\r\n",
        "import tensorflow as tf\r\n",
        "import tensorflow_datasets as tfds"
      ],
      "execution_count": 22,
      "outputs": []
    },
    {
      "cell_type": "code",
      "metadata": {
        "colab": {
          "base_uri": "https://localhost:8080/",
          "height": 202,
          "referenced_widgets": [
            "4e6f1d1b94314ea9a601d7a56617be12",
            "dc60b231c38d4b9e94bbdd2dc705d9ae",
            "9fa1d62d0d9243628e01f98d446668cc",
            "eed3d678f9e04cbd93d20f8158d93e34",
            "f96b9dfc77af4606ad62cbf02cd18afe",
            "babf0bd691b94a8caf36080b1e6f0149",
            "368ebb94a037483695ba6af786f39ff6",
            "6d2d5ea7fa1c4737b512521ef6662bb8"
          ]
        },
        "id": "0q3N13rvkpqt",
        "outputId": "de221ce6-a3f2-4b64-b120-b0b4c15d8d32"
      },
      "source": [
        "mnist_dataset, mnist_info = tfds.load(name='mnist', as_supervised=True, with_info=True)"
      ],
      "execution_count": 23,
      "outputs": [
        {
          "output_type": "stream",
          "text": [
            "\u001b[1mDownloading and preparing dataset mnist/3.0.1 (download: 11.06 MiB, generated: 21.00 MiB, total: 32.06 MiB) to /root/tensorflow_datasets/mnist/3.0.1...\u001b[0m\n"
          ],
          "name": "stdout"
        },
        {
          "output_type": "stream",
          "text": [
            "WARNING:absl:Dataset mnist is hosted on GCS. It will automatically be downloaded to your\n",
            "local data directory. If you'd instead prefer to read directly from our public\n",
            "GCS bucket (recommended if you're running on GCP), you can instead pass\n",
            "`try_gcs=True` to `tfds.load` or set `data_dir=gs://tfds-data/datasets`.\n",
            "\n"
          ],
          "name": "stderr"
        },
        {
          "output_type": "display_data",
          "data": {
            "application/vnd.jupyter.widget-view+json": {
              "model_id": "4e6f1d1b94314ea9a601d7a56617be12",
              "version_minor": 0,
              "version_major": 2
            },
            "text/plain": [
              "HBox(children=(FloatProgress(value=0.0, description='Dl Completed...', max=4.0, style=ProgressStyle(descriptio…"
            ]
          },
          "metadata": {
            "tags": []
          }
        },
        {
          "output_type": "stream",
          "text": [
            "\n",
            "\n",
            "\u001b[1mDataset mnist downloaded and prepared to /root/tensorflow_datasets/mnist/3.0.1. Subsequent calls will reuse this data.\u001b[0m\n"
          ],
          "name": "stdout"
        }
      ]
    },
    {
      "cell_type": "code",
      "metadata": {
        "id": "0yPEijuOk8yV"
      },
      "source": [
        "#unpack the data\r\n",
        "mnist_train, mnist_test = mnist_dataset['train'], mnist_dataset['test']\r\n",
        "\r\n",
        "num_validation_samples = 0.1 * mnist_info.splits['train'].num_examples\r\n",
        "num_validation_samples = tf.cast(num_validation_samples, tf.int64)\r\n",
        "num_test_sample = mnist_info.splits['test'].num_examples\r\n",
        "num_test_sample = tf.cast(num_test_sample, tf.int64)"
      ],
      "execution_count": 24,
      "outputs": []
    },
    {
      "cell_type": "markdown",
      "metadata": {
        "id": "HwlVuufDmASp"
      },
      "source": [
        "Scale the images"
      ]
    },
    {
      "cell_type": "code",
      "metadata": {
        "id": "aI8stNgQmCM5"
      },
      "source": [
        "#define a function that will scale the images\r\n",
        "#each individual color is 0–255 (as 2⁸ = 256 possibilities)\r\n",
        "def scale(image, label):\r\n",
        "  image = tf.cast(image, tf.float32)\r\n",
        "  image /= 255.\r\n",
        "  return image, label \r\n",
        "\r\n",
        "scaled_train_and_validation_data = mnist_train.map(scale)\r\n",
        "test_data = mnist_test.map(scale)"
      ],
      "execution_count": 26,
      "outputs": []
    },
    {
      "cell_type": "markdown",
      "metadata": {
        "id": "ztpy9Hhhm4W8"
      },
      "source": [
        "Shuffle the data"
      ]
    },
    {
      "cell_type": "code",
      "metadata": {
        "id": "1qfiMsnwm3g9"
      },
      "source": [
        "#Buffer size is a scalar that affects the randomness of the transformation\r\n",
        "#maintains a buffer of buffer_size elements and randomly selects the next element from that buffer (replacing it with the next input element, if one is available)\r\n",
        "BUFFER_SIZE = 10000\r\n",
        "\r\n",
        "shuffled_train_and_validation_data = scaled_train_and_validation_data.shuffle(BUFFER_SIZE)\r\n",
        "validation_data = shuffled_train_and_validation_data.skip(num_validation_samples)\r\n",
        "train_data = shuffled_train_and_validation_data.skip(num_validation_samples)\r\n",
        "\r\n",
        "BATCH_SIZE = 100\r\n",
        "\r\n",
        "train_data = train_data.batch(BATCH_SIZE)\r\n",
        "validation_data = validation_data.batch(num_validation_samples)\r\n",
        "test_data = test_data.batch(num_test_sample)"
      ],
      "execution_count": 27,
      "outputs": []
    },
    {
      "cell_type": "markdown",
      "metadata": {
        "id": "5H-KY3TRoNoz"
      },
      "source": [
        "Outline the model"
      ]
    },
    {
      "cell_type": "code",
      "metadata": {
        "id": "I8YPqboWoKh0"
      },
      "source": [
        "output_size = 10\r\n",
        "hidden_layer_size = 50\r\n",
        "\r\n",
        "model = tf.keras.Sequential([tf.keras.layers.Flatten(input_shape = (28, 28, 1)),\r\n",
        "                             tf.keras.layers.Dense(hidden_layer_size, activation='relu'),\r\n",
        "                             tf.keras.layers.Dense(hidden_layer_size, activation='relu'),\r\n",
        "                             tf.keras.layers.Dense(hidden_layer_size, activation='softmax')])\r\n",
        "#define the output size\r\n",
        "#define the hidden layer size\r\n",
        "#size of the hidden layer should be between the size of the input layer and the size of the output layer. In this case, the hidden layer size will be 50\r\n",
        "#define the model\r\n",
        "#Sequential model is a linear stack of layers\r\n",
        "#choose activation function for the hidden and output layer\r\n",
        "#https://towardsdatascience.com/deep-learning-with-tensorflow-5d3a7a8c55cd"
      ],
      "execution_count": 29,
      "outputs": []
    },
    {
      "cell_type": "markdown",
      "metadata": {
        "id": "aDFSgCfApdFX"
      },
      "source": [
        "Compile the model"
      ]
    },
    {
      "cell_type": "code",
      "metadata": {
        "id": "DktmHNJ5pfhB"
      },
      "source": [
        "#Optimizer: Optimization algorithms or strategies are responsible for reducing the losses and to provide the most accurate results possible. In this example, we are using an optimization algorithm called Adam. Adam is an optimization algorithm that can be used instead of the classical stochastic gradient descent procedure to update network weights iteratively based on the training data.\r\n",
        "#Loss: It’s a method of evaluating how well a specific algorithm models the given data. If predictions deviate too much from actual results, loss function would cough up a very large number. Categorical cross-entropy and sparse categorical cross-entropy have the same loss function — the only difference is that we are using the Categorical cross-entropy when the inputs are one-hot encoded and we are using the sparse categorical cross-entropy when the inputs are integers.\r\n",
        "#Metrics: A metric is a function that is used to judge the performance of the model.\r\n",
        "\r\n",
        "model.compile(optimizer='adam', loss='sparse_categorical_crossentropy', metrics=['accuracy'])"
      ],
      "execution_count": 30,
      "outputs": []
    },
    {
      "cell_type": "markdown",
      "metadata": {
        "id": "0JA6CjXMp4bA"
      },
      "source": [
        "Train the model"
      ]
    },
    {
      "cell_type": "code",
      "metadata": {
        "colab": {
          "base_uri": "https://localhost:8080/"
        },
        "id": "w4mSai5xp6OZ",
        "outputId": "8d5e956a-3937-4002-fc9d-0e3cb3b099c1"
      },
      "source": [
        "#Batch size — the number of training examples in one forward/backward pass\r\n",
        "#The number of epochs — Number of epochs to train the model. An epoch is an iteration over the entire x and y data provided.\r\n",
        "#Early stop — Stop training when a monitored quantity has stopped improving. Patience is a number that defines a number of epochs that produced the monitored quantity with no improvement after which the training will be stopped.\r\n",
        "\r\n",
        "# fixed number of epochs\r\n",
        "#define the Batch size, the maximum epochs, and early stop\r\n",
        "NUM_EPOCHS = 10\r\n",
        "BATCH_SIZE = 100\r\n",
        "EARLY_STOP = tf.keras.callbacks.EarlyStopping(patience=2)\r\n",
        "\r\n",
        "model.fit(train_data,\r\n",
        "          epochs=NUM_EPOCHS,\r\n",
        "          callbacks=[EARLY_STOP],\r\n",
        "          validation_data=validation_data,\r\n",
        "          verbose = 2)"
      ],
      "execution_count": 31,
      "outputs": [
        {
          "output_type": "stream",
          "text": [
            "Epoch 1/10\n",
            "540/540 - 9s - loss: 0.5375 - accuracy: 0.8583 - val_loss: 0.2229 - val_accuracy: 0.9374\n",
            "Epoch 2/10\n",
            "540/540 - 6s - loss: 0.1986 - accuracy: 0.9424 - val_loss: 0.1635 - val_accuracy: 0.9518\n",
            "Epoch 3/10\n",
            "540/540 - 6s - loss: 0.1522 - accuracy: 0.9554 - val_loss: 0.1247 - val_accuracy: 0.9640\n",
            "Epoch 4/10\n",
            "540/540 - 6s - loss: 0.1263 - accuracy: 0.9633 - val_loss: 0.1020 - val_accuracy: 0.9702\n",
            "Epoch 5/10\n",
            "540/540 - 6s - loss: 0.1050 - accuracy: 0.9681 - val_loss: 0.0861 - val_accuracy: 0.9758\n",
            "Epoch 6/10\n",
            "540/540 - 6s - loss: 0.0945 - accuracy: 0.9713 - val_loss: 0.0808 - val_accuracy: 0.9763\n",
            "Epoch 7/10\n",
            "540/540 - 6s - loss: 0.0820 - accuracy: 0.9754 - val_loss: 0.0733 - val_accuracy: 0.9776\n",
            "Epoch 8/10\n",
            "540/540 - 6s - loss: 0.0724 - accuracy: 0.9781 - val_loss: 0.0620 - val_accuracy: 0.9821\n",
            "Epoch 9/10\n",
            "540/540 - 6s - loss: 0.0656 - accuracy: 0.9800 - val_loss: 0.0503 - val_accuracy: 0.9856\n",
            "Epoch 10/10\n",
            "540/540 - 6s - loss: 0.0599 - accuracy: 0.9825 - val_loss: 0.0584 - val_accuracy: 0.9822\n"
          ],
          "name": "stdout"
        },
        {
          "output_type": "execute_result",
          "data": {
            "text/plain": [
              "<tensorflow.python.keras.callbacks.History at 0x7f0d674bdd50>"
            ]
          },
          "metadata": {
            "tags": []
          },
          "execution_count": 31
        }
      ]
    },
    {
      "cell_type": "markdown",
      "metadata": {
        "id": "ab1Yzhinq5pL"
      },
      "source": [
        "Evaluate the model"
      ]
    },
    {
      "cell_type": "code",
      "metadata": {
        "colab": {
          "base_uri": "https://localhost:8080/"
        },
        "id": "2n1_S4lzq4Hl",
        "outputId": "cb76e201-c2db-4c48-c7ce-8b99ddcae160"
      },
      "source": [
        "test_loss, test_accuracy = model.evaluate(test_data)\r\n",
        "\r\n",
        "print('Test loss: {0:.2f}'.format(test_loss))\r\n",
        "print('Test accuracy: {0:.2f}'.format(test_accuracy*100.))"
      ],
      "execution_count": 32,
      "outputs": [
        {
          "output_type": "stream",
          "text": [
            "1/1 [==============================] - 1s 1s/step - loss: 0.1128 - accuracy: 0.9662\n",
            "Test loss: 0.11\n",
            "Test accuracy: 96.62\n"
          ],
          "name": "stdout"
        }
      ]
    },
    {
      "cell_type": "markdown",
      "metadata": {
        "id": "L1M8ELQ1rmdX"
      },
      "source": [
        "This is a simple example of image classification"
      ]
    }
  ]
}